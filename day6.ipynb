{
 "cells": [
  {
   "cell_type": "code",
   "execution_count": 1,
   "metadata": {},
   "outputs": [],
   "source": [
    "import heapq"
   ]
  },
  {
   "cell_type": "markdown",
   "metadata": {},
   "source": [
    "232"
   ]
  },
  {
   "cell_type": "code",
   "execution_count": null,
   "metadata": {},
   "outputs": [],
   "source": [
    "class MyQueue:\n",
    "\n",
    "    def __init__(self):\n",
    "        self.queue = []\n",
    "\n",
    "    def push(self, x: int) -> None:\n",
    "        self.queue.append(x)\n",
    "\n",
    "    def pop(self) -> int:\n",
    "        return self.queue.pop(0)\n",
    "\n",
    "    def peek(self) -> int:\n",
    "        return self.queue[0]\n",
    "\n",
    "    def empty(self) -> bool:\n",
    "        return self.queue == []\n",
    "\n",
    "\n",
    "\n",
    "# Your MyQueue object will be instantiated and called as such:\n",
    "# obj = MyQueue()\n",
    "# obj.push(x)\n",
    "# param_2 = obj.pop()\n",
    "# param_3 = obj.peek()\n",
    "# param_4 = obj.empty()"
   ]
  },
  {
   "cell_type": "markdown",
   "metadata": {},
   "source": [
    "641"
   ]
  },
  {
   "cell_type": "code",
   "execution_count": 3,
   "metadata": {},
   "outputs": [
    {
     "data": {
      "text/plain": [
       "12"
      ]
     },
     "execution_count": 3,
     "metadata": {},
     "output_type": "execute_result"
    }
   ],
   "source": [
    "class MyCircularDeque:\n",
    "\n",
    "    def __init__(self, k: int):\n",
    "        self.queue = [None] * k\n",
    "        self.front = 0\n",
    "        self.rear = 0\n",
    "        self.size = 0\n",
    "        self.capacity = k\n",
    "\n",
    "    def insertFront(self, value: int) -> bool:\n",
    "        if self.isFull():\n",
    "            return False\n",
    "        self.front = (self.front - 1) % self.capacity\n",
    "        self.queue[self.front] = value\n",
    "        self.size += 1\n",
    "        return True\n",
    "\n",
    "    def insertLast(self, value: int) -> bool:\n",
    "        if self.isFull():\n",
    "            return False\n",
    "        self.queue[self.rear] = value\n",
    "        self.rear = (self.rear + 1) % self.capacity\n",
    "        self.size += 1\n",
    "        return True\n",
    "\n",
    "    def deleteFront(self) -> bool:\n",
    "        if self.isEmpty():\n",
    "            return False\n",
    "        self.queue[self.front] = None\n",
    "        self.front = (self.front + 1) % self.capacity\n",
    "        self.size -= 1\n",
    "        return True\n",
    "\n",
    "    def deleteLast(self) -> bool:\n",
    "        if self.isEmpty():\n",
    "            return False\n",
    "        self.rear = (self.rear - 1 + self.capacity) % self.capacity\n",
    "        self.queue[self.rear] = None\n",
    "        self.size -= 1\n",
    "        return True\n",
    "\n",
    "    def getFront(self) -> int:\n",
    "        if self.isEmpty():\n",
    "            return -1\n",
    "        return self.queue[self.front]\n",
    "\n",
    "    def getRear(self) -> int:\n",
    "        if self.isEmpty():\n",
    "            return -1\n",
    "        return self.queue[(self.rear-1)%self.capacity]\n",
    "\n",
    "    def isEmpty(self) -> bool:\n",
    "        return self.size == 0\n",
    "        #因为队列满了的时候和空的时候front == tail，所以需要size辅助判断是否为空\n",
    "\n",
    "    def isFull(self) -> bool:\n",
    "        return self.size == self.capacity"
   ]
  },
  {
   "cell_type": "markdown",
   "metadata": {},
   "source": [
    "# 多路并归 + heap"
   ]
  },
  {
   "cell_type": "markdown",
   "metadata": {},
   "source": [
    "264"
   ]
  },
  {
   "cell_type": "markdown",
   "metadata": {},
   "source": [
    "373"
   ]
  },
  {
   "cell_type": "code",
   "execution_count": null,
   "metadata": {},
   "outputs": [],
   "source": [
    "class Solution:\n",
    "    def kSmallestPairs(self, nums1: List[int], nums2: List[int], k: int) -> List[List[int]]:\n",
    "        flag, ans = (n:=len(nums1))>(m:=len(nums2)), []\n",
    "        if flag:\n",
    "             n, m, nums1, nums2 = m, n, nums2, nums1\n",
    "        heap = []\n",
    "        #初始化n序列，n<m\n",
    "        for i in range(min(n,k)):\n",
    "            heapq.heappush(heap,(nums1[i]+nums2[0],i,0))\n",
    "        while heap and len(ans) < k:\n",
    "            _,a,b = heapq.heappop(heap)\n",
    "            ans.append([nums2[b],nums1[a]] if flag else [nums1[a],nums2[b]])\n",
    "            if b < m-1:\n",
    "                heapq.heappush(heap, (nums1[a]+nums2[b+1],a, b+1))\n",
    "        return ans"
   ]
  }
 ],
 "metadata": {
  "kernelspec": {
   "display_name": "base",
   "language": "python",
   "name": "python3"
  },
  "language_info": {
   "codemirror_mode": {
    "name": "ipython",
    "version": 3
   },
   "file_extension": ".py",
   "mimetype": "text/x-python",
   "name": "python",
   "nbconvert_exporter": "python",
   "pygments_lexer": "ipython3",
   "version": "3.10.9"
  }
 },
 "nbformat": 4,
 "nbformat_minor": 2
}
