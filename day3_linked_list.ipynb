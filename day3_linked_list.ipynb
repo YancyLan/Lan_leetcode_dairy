{
 "cells": [
  {
   "cell_type": "markdown",
   "metadata": {},
   "source": [
    "# 21: Combine two ordered Linked List"
   ]
  },
  {
   "cell_type": "code",
   "execution_count": null,
   "metadata": {},
   "outputs": [],
   "source": [
    "# Definition for singly-linked list.\n",
    "# class ListNode:\n",
    "#     def __init__(self, val=0, next=None):\n",
    "#         self.val = val\n",
    "#         self.next = next\n",
    "class Solution:\n",
    "    def mergeTwoLists(self, list1: Optional[ListNode], list2: Optional[ListNode]) -> Optional[ListNode]:\n",
    "        node0 = dummy =  ListNode(-1)\n",
    "        node1 = list1\n",
    "        node2 = list2\n",
    "\n",
    "        while node1 and node2:\n",
    "            if node1.val <= node2.val:\n",
    "                node0.next = node1\n",
    "                node0 = node0.next\n",
    "                node1 =node1.next\n",
    "            else:\n",
    "                node0.next = node2\n",
    "                node0 = node0.next\n",
    "                node2 =node2.next\n",
    "\n",
    "        if node1:\n",
    "            node0.next = node1 \n",
    "        elif node2:\n",
    "            node0.next = node2 \n",
    "        #node0.next = node1 if node1 else node2\n",
    "\n",
    "        return dummy.next"
   ]
  },
  {
   "cell_type": "markdown",
   "metadata": {},
   "source": [
    "# 328 Odd Even Linked List"
   ]
  },
  {
   "cell_type": "code",
   "execution_count": 16,
   "metadata": {},
   "outputs": [
    {
     "name": "stdout",
     "output_type": "stream",
     "text": [
      "0\n",
      "1\n",
      "1\n",
      "3\n",
      "[1, 3, 5, 2, 4]\n"
     ]
    }
   ],
   "source": [
    "# This is a wrong solution, because I read the question wrong, the meaning is combine odd index and even index together\n",
    "# the following solution is to combine the value odd and even together\n",
    "# But as this misunderstanding question can be considered as a transact version of the oringinal question\n",
    "# So I keep it here\n",
    "class ListNode:\n",
    "    def __init__(self, val=0, next=None):\n",
    "        self.val = val\n",
    "        self.next = next\n",
    "#Solution1\n",
    "class Solution:\n",
    "    def oddEvenList(self, head: ListNode) -> ListNode:\n",
    " \n",
    "        node = dummy = ListNode(next=head)\n",
    "\n",
    "        while node.next:\n",
    "            node = node.next\n",
    "        node_tail_temp = node_tail = node\n",
    "        node = dummy\n",
    "        while node.next and node.next != node_tail_temp:\n",
    "            print(node.val)\n",
    "            if node.next.val%2 == 0:\n",
    "                temp_node_1 = node.next\n",
    "                temp_node_2 = node.next.next\n",
    "                \n",
    "                node.next = temp_node_2\n",
    "                node_tail.next = temp_node_1\n",
    "                node_tail = node_tail.next\n",
    "                node_tail.next = None\n",
    "            else:\n",
    "                node = node.next\n",
    "\n",
    "\n",
    "        if node_tail_temp and node_tail_temp.val%2 == 0:\n",
    "            temp_node_1 = node.next\n",
    "            temp_node_2 = node.next.next\n",
    "            node.next = temp_node_2\n",
    "            node_tail.next = temp_node_1\n",
    "            node_tail = node_tail.next\n",
    "            node_tail.next = None\n",
    "\n",
    "        return dummy.next\n",
    "\n",
    "# Helper functions for testing\n",
    "def create_linked_list(arr):\n",
    "    if not arr:\n",
    "        return None\n",
    "    head = ListNode(arr[0])\n",
    "    current = head\n",
    "    for val in arr[1:]:\n",
    "        current.next = ListNode(val)\n",
    "        current = current.next\n",
    "    return head\n",
    "\n",
    "def print_linked_list(head):\n",
    "    values = []\n",
    "    current = head\n",
    "    while current:\n",
    "        values.append(current.val)\n",
    "        current = current.next\n",
    "    print(values)\n",
    "\n",
    "# Testing the implementation\n",
    "head = create_linked_list([1, 2, 3, 4, 5])\n",
    "solution = Solution()\n",
    "new_head = solution.oddEvenList(head)\n",
    "print_linked_list(new_head)  # Output should be [1, 3, 5, 2, 4]\n"
   ]
  },
  {
   "cell_type": "code",
   "execution_count": null,
   "metadata": {},
   "outputs": [],
   "source": [
    "# Correct Solution\n",
    "class Solution:\n",
    "    def oddEvenList(self, head: ListNode) -> ListNode:\n",
    "        if head == None or head.next == None:\n",
    "            return head\n",
    "        dummy = ListNode(next=head)\n",
    "        odd = dummy.next\n",
    "        even = odd.next\n",
    "        even_head = even\n",
    "\n",
    "        while even and even.next:\n",
    "            odd.next = even.next\n",
    "            even.next = even.next.next\n",
    "            odd.next.next = even_head\n",
    "\n",
    "            odd = odd.next\n",
    "            even = even.next\n",
    "\n",
    "        return dummy.next"
   ]
  },
  {
   "cell_type": "markdown",
   "metadata": {},
   "source": [
    "# 92 Reverse Linked List II"
   ]
  },
  {
   "cell_type": "code",
   "execution_count": null,
   "metadata": {},
   "outputs": [],
   "source": [
    "class Solution:\n",
    "    def reverseBetween(self, head: Optional[ListNode], left: int, right: int) -> Optional[ListNode]:\n",
    "        index = 0\n",
    "        node = dummy = ListNode(next=head)\n",
    "        while index<right:\n",
    "            if index == left-1:\n",
    "                left_list_node = node\n",
    "            index += 1\n",
    "            node = node.next\n",
    "\n",
    "        right_node = node\n",
    "        node = left_list_node.next\n",
    "        while node != right_node:\n",
    "            temp_node_1 = right_node.next\n",
    "\n",
    "            right_node.next = node\n",
    "            left_list_node.next = node.next\n",
    "            node.next = temp_node_1\n",
    "\n",
    "            node = left_list_node.next\n",
    "        return dummy.next\n"
   ]
  }
 ],
 "metadata": {
  "kernelspec": {
   "display_name": "base",
   "language": "python",
   "name": "python3"
  },
  "language_info": {
   "codemirror_mode": {
    "name": "ipython",
    "version": 3
   },
   "file_extension": ".py",
   "mimetype": "text/x-python",
   "name": "python",
   "nbconvert_exporter": "python",
   "pygments_lexer": "ipython3",
   "version": "3.10.9"
  }
 },
 "nbformat": 4,
 "nbformat_minor": 2
}
