{
 "cells": [
  {
   "cell_type": "markdown",
   "metadata": {},
   "source": [
    "# 1475. Final Prices With a Special Discount in a Shop"
   ]
  },
  {
   "cell_type": "code",
   "execution_count": 29,
   "metadata": {},
   "outputs": [],
   "source": [
    "class Solution:\n",
    "    def finalPrices(self, prices: List[int]) -> List[int]:\n",
    "        ans = prices.copy()\n",
    "        stk = []#首位为右边第一个最小的元素\n",
    "        for i in range(len(prices)-1,-1,-1):\n",
    "            while stk and prices[i]<stk[-1]:\n",
    "                stk.pop()\n",
    "            if stk:\n",
    "                ans[i]=prices[i] - stk[-1]\n",
    "            stk.append(prices[i])\n",
    "        return ans"
   ]
  },
  {
   "cell_type": "markdown",
   "metadata": {},
   "source": [
    "# 关于变量的指代问题，如果直接ans = prices\n",
    "就会导致ans与prices指代的是同一个变量，这个时候应该用copy"
   ]
  },
  {
   "cell_type": "markdown",
   "metadata": {},
   "source": [
    "# 739 Daily temperatures"
   ]
  },
  {
   "cell_type": "code",
   "execution_count": 30,
   "metadata": {},
   "outputs": [
    {
     "data": {
      "text/plain": [
       "[4, 2, 4, 2, 3]"
      ]
     },
     "execution_count": 30,
     "metadata": {},
     "output_type": "execute_result"
    }
   ],
   "source": [
    "Solution.finalPrices([8,4,6,2,3])"
   ]
  },
  {
   "cell_type": "code",
   "execution_count": 18,
   "metadata": {},
   "outputs": [
    {
     "name": "stdout",
     "output_type": "stream",
     "text": [
      "[8, 7, 6, 5, 4, 3, 2, 1, 0]\n"
     ]
    }
   ],
   "source": [
    "print(list(range(8,-1,-1)))"
   ]
  },
  {
   "cell_type": "code",
   "execution_count": null,
   "metadata": {},
   "outputs": [],
   "source": [
    "class Solution:\n",
    "    def dailyTemperatures(self, temperatures: List[int]) -> List[int]:\n",
    "        ans = [0]*len(temperatures)\n",
    "        stk = []\n",
    "        for i in range(len(temperatures)-1,-1,-1):\n",
    "            t = temperatures[i]\n",
    "            while stk and t>=temperatures[stk[-1]]:\n",
    "                stk.pop()\n",
    "            if stk:\n",
    "                ans[i] = stk[-1] - i\n",
    "            stk.append(i)\n",
    "        return ans"
   ]
  },
  {
   "cell_type": "markdown",
   "metadata": {},
   "source": [
    "# 84 Largest Rectangle in Histogram"
   ]
  },
  {
   "cell_type": "code",
   "execution_count": 68,
   "metadata": {},
   "outputs": [],
   "source": [
    "def largestRectangleArea(heights):\n",
    "    max_area = heights.copy()\n",
    "    stk = []\n",
    "    #找到右边最的远的，且比i高的height\n",
    "    #右边保存\n",
    "    for i in range(len(heights)-1, -1, -1):\n",
    "        while stk and heights[i] <= heights[stk[-1]]:\n",
    "            stk.pop()\n",
    "        if stk:\n",
    "            temp = heights[i]*(stk[-1]-i)\n",
    "        else:\n",
    "            temp = heights[i]*(len(heights)-i)\n",
    "        stk.append(i)\n",
    "        max_area[i] = temp\n",
    "    \n",
    "    max_area_2 = heights.copy()\n",
    "    max_area_2 = [-x for x in max_area_2]\n",
    "    print(max_area_2)\n",
    "    stk = []\n",
    "    for i in range(0,len(heights)):\n",
    "        while stk and heights[i] <= heights[stk[-1]]:\n",
    "            stk.pop()\n",
    "        if stk:\n",
    "            temp = heights[i]*(-stk[-1]+i)\n",
    "            print(stk,heights[i],-stk[-1]+i)\n",
    "        else:\n",
    "            temp = heights[i]*(i+1)\n",
    "            print(heights[i],i+1)\n",
    "        stk.append(i)\n",
    "        max_area_2[i] = max_area_2[i] + temp\n",
    "    \n",
    "    \n",
    "    sum = [a+b for a,b in zip(max_area,max_area_2)]\n",
    "    \n",
    "    \n",
    "    return min(sum)"
   ]
  },
  {
   "cell_type": "code",
   "execution_count": 69,
   "metadata": {},
   "outputs": [
    {
     "name": "stdout",
     "output_type": "stream",
     "text": [
      "[-2, -1, -2]\n",
      "2 1\n",
      "1 2\n",
      "[1] 2 1\n"
     ]
    },
    {
     "data": {
      "text/plain": [
       "[2, 3, 2]"
      ]
     },
     "execution_count": 69,
     "metadata": {},
     "output_type": "execute_result"
    }
   ],
   "source": [
    "largestRectangleArea([2,1,2])"
   ]
  },
  {
   "cell_type": "code",
   "execution_count": null,
   "metadata": {},
   "outputs": [],
   "source": [
    "class Solution:\n",
    "    def largestRectangleArea(self, heights: List[int]) -> int:\n",
    "        left, right = [0]*len(heights), [len(heights)] * len(heights)\n",
    "        stack = []\n",
    "        for i in range(len(heights)):\n",
    "            while stack and heights[i] < heights[stack[-1]]:\n",
    "                right[stack[-1]] = i\n",
    "                stack.pop()\n",
    "            left[i] = stack[-1] if stack else -1\n",
    "            stack.append(i)\n",
    "        \n",
    "        ans = max([heights[i]*(r-l-1) for i, (l,r) in enumerate(zip(left, right))])\n",
    "        \n",
    "        return ans"
   ]
  },
  {
   "cell_type": "code",
   "execution_count": 48,
   "metadata": {},
   "outputs": [
    {
     "data": {
      "text/plain": [
       "10"
      ]
     },
     "execution_count": 48,
     "metadata": {},
     "output_type": "execute_result"
    }
   ],
   "source": [
    "len([1]*10)"
   ]
  },
  {
   "cell_type": "code",
   "execution_count": 70,
   "metadata": {},
   "outputs": [
    {
     "data": {
      "text/plain": [
       "10"
      ]
     },
     "execution_count": 70,
     "metadata": {},
     "output_type": "execute_result"
    }
   ],
   "source": [
    "sum([1,2,3,4])"
   ]
  },
  {
   "cell_type": "markdown",
   "metadata": {},
   "source": [
    "# 42:Trapping Rain Water"
   ]
  },
  {
   "cell_type": "code",
   "execution_count": 117,
   "metadata": {},
   "outputs": [],
   "source": [
    "def trap(height):\n",
    "    ans = 0\n",
    "    stk = []\n",
    "    for i,h in enumerate(height):\n",
    "        while stk and height[i]>height[stk[-1]]:\n",
    "            last_height = height[stk.pop()]\n",
    "            if not stk:\n",
    "                break\n",
    "            left = stk[-1]\n",
    "            dh = min(height[left],h)-last_height\n",
    "            ans += dh*(i-left-1)        \n",
    "        stk.append(i)\n",
    "\n",
    "    return ans"
   ]
  },
  {
   "cell_type": "code",
   "execution_count": 118,
   "metadata": {},
   "outputs": [
    {
     "data": {
      "text/plain": [
       "9"
      ]
     },
     "execution_count": 118,
     "metadata": {},
     "output_type": "execute_result"
    }
   ],
   "source": [
    "trap([4,2,0,3,2,5])"
   ]
  }
 ],
 "metadata": {
  "kernelspec": {
   "display_name": "base",
   "language": "python",
   "name": "python3"
  },
  "language_info": {
   "codemirror_mode": {
    "name": "ipython",
    "version": 3
   },
   "file_extension": ".py",
   "mimetype": "text/x-python",
   "name": "python",
   "nbconvert_exporter": "python",
   "pygments_lexer": "ipython3",
   "version": "3.10.9"
  }
 },
 "nbformat": 4,
 "nbformat_minor": 2
}
