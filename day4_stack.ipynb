{
 "cells": [
  {
   "cell_type": "markdown",
   "metadata": {},
   "source": [
    "# 20. Valid Parentheses"
   ]
  },
  {
   "cell_type": "code",
   "execution_count": 2,
   "metadata": {},
   "outputs": [],
   "source": [
    "class Solution:\n",
    "    def isValid(self, s: str) -> bool:\n",
    "        stack = []\n",
    "        for i in s:\n",
    "            if i == '(' or i == '{' or i == '[':\n",
    "                stack.append(i)\n",
    "            else:\n",
    "                if stack == []:\n",
    "                    return False\n",
    "                j = stack.pop()\n",
    "                if (j=='(' and i!=')') or (j=='[' and i!=']') or (j=='{' and i!='}') :\n",
    "                    return False\n",
    "        \n",
    "        return True if stack==[] else False"
   ]
  },
  {
   "cell_type": "markdown",
   "metadata": {},
   "source": [
    "# 155 Min Stack"
   ]
  },
  {
   "cell_type": "code",
   "execution_count": null,
   "metadata": {},
   "outputs": [],
   "source": [
    "class Node:\n",
    "    def __init__(self, val):\n",
    "        self.val = val\n",
    "        self.next = None\n",
    "\n",
    "class MinStack:\n",
    "\n",
    "    def __init__(self):\n",
    "        # head is indicated head node, do not change with the input element\n",
    "        self.head = Node('head')\n",
    "        self.size = 0\n",
    "    \n",
    "    def isVoid(self):\n",
    "        return self.size == 0\n",
    "\n",
    "    def push(self, val: int) -> None:\n",
    "        node = Node(val)\n",
    "        node.next = self.head.next\n",
    "        self.head.next = node\n",
    "        self.size += 1\n",
    "\n",
    "    def pop(self) -> None:\n",
    "        if self.isVoid():\n",
    "            return None\n",
    "        self.head.next = self.head.next.next\n",
    "        self.size -= 1\n",
    "\n",
    "    def top(self) -> int:\n",
    "        if self.isVoid():\n",
    "            return None\n",
    "        return self.head.next.val\n",
    "\n",
    "    def getMin(self) -> int:\n",
    "        if self.isVoid():\n",
    "            return None\n",
    "        min_val = self.head.next.val\n",
    "        node = self.head.next\n",
    "        while node:\n",
    "            min_val = min(node.val,min_val)\n",
    "            node = node.next\n",
    "        return min_val"
   ]
  },
  {
   "cell_type": "code",
   "execution_count": null,
   "metadata": {},
   "outputs": [],
   "source": [
    "class MinStack:\n",
    "\n",
    "    def __init__(self):\n",
    "        self.stk, self.kts = [], []\n",
    "\n",
    "    def push(self, val: int) -> None:\n",
    "        if not self.stk:\n",
    "            self.stk.append(val)\n",
    "            self.kts.append(val)\n",
    "        else:\n",
    "            self.stk.append(val)\n",
    "            if val <= self.kts[-1]:\n",
    "                self.kts.append(val)\n",
    "\n",
    "    def pop(self) -> None:\n",
    "        if self.stk:\n",
    "            c = self.stk.pop()\n",
    "            if c == self.kts[-1]:\n",
    "                self.kts.pop()\n",
    "\n",
    "    def top(self) -> int:\n",
    "        return self.stk[-1] if self.stk else None\n",
    "\n",
    "    def getMin(self) -> int:\n",
    "        return self.kts[-1] if self.kts else None"
   ]
  },
  {
   "cell_type": "markdown",
   "metadata": {},
   "source": [
    "# 150. Evaluate Reverse Polish Notation"
   ]
  },
  {
   "cell_type": "code",
   "execution_count": 4,
   "metadata": {},
   "outputs": [
    {
     "data": {
      "text/plain": [
       "['4', '13', '5', '/']"
      ]
     },
     "execution_count": 4,
     "metadata": {},
     "output_type": "execute_result"
    }
   ],
   "source": [
    "class Solution:\n",
    "    def evalRPN(self, tokens) -> int:\n",
    "        stk_num = []\n",
    "\n",
    "        for i in tokens:\n",
    "            if i=='+' or i=='*' or i=='/' or i=='-':\n",
    "                b = stk_num.pop() \n",
    "                a = stk_num.pop()\n",
    "                if i=='+':\n",
    "                    ans = a+b\n",
    "                elif i=='*':\n",
    "                    ans = a*b\n",
    "                elif i=='/':\n",
    "                    ans = int(a/b)\n",
    "                else:\n",
    "                    ans = a-b\n",
    "                stk_num.append(ans)\n",
    "            else:\n",
    "                stk_num.append(int(i))\n",
    "        \n",
    "        return stk_num.pop()"
   ]
  }
 ],
 "metadata": {
  "kernelspec": {
   "display_name": "base",
   "language": "python",
   "name": "python3"
  },
  "language_info": {
   "codemirror_mode": {
    "name": "ipython",
    "version": 3
   },
   "file_extension": ".py",
   "mimetype": "text/x-python",
   "name": "python",
   "nbconvert_exporter": "python",
   "pygments_lexer": "ipython3",
   "version": "3.10.9"
  }
 },
 "nbformat": 4,
 "nbformat_minor": 2
}
