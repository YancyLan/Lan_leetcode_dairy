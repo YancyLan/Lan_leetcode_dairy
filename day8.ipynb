{
 "cells": [
  {
   "cell_type": "markdown",
   "metadata": {},
   "source": [
    "# 217"
   ]
  },
  {
   "cell_type": "code",
   "execution_count": null,
   "metadata": {},
   "outputs": [],
   "source": [
    "class Solution:\n",
    "    def containsDuplicate(self, nums: List[int]) -> bool:\n",
    "        set_ = {}\n",
    "        for i in nums:\n",
    "            if i in set_:\n",
    "                return True\n",
    "            set_[i] = i\n",
    "        return False"
   ]
  },
  {
   "cell_type": "markdown",
   "metadata": {},
   "source": [
    "# 349"
   ]
  },
  {
   "cell_type": "code",
   "execution_count": 8,
   "metadata": {},
   "outputs": [
    {
     "data": {
      "text/plain": [
       "[1, 2, 2, 1]"
      ]
     },
     "execution_count": 8,
     "metadata": {},
     "output_type": "execute_result"
    }
   ],
   "source": [
    "nums1 = [1,2,2,1]\n",
    "nums2 = [2,2]\n",
    "nums1"
   ]
  },
  {
   "cell_type": "code",
   "execution_count": 9,
   "metadata": {},
   "outputs": [],
   "source": [
    "all = nums1+nums2 # extend now has the element in nums2\n",
    "# can not assign the result of nums1.extend(nums2) to a new virable (which will end up as a nonetype element)\n",
    "# use nums1 + nums2 instead"
   ]
  },
  {
   "cell_type": "code",
   "execution_count": 7,
   "metadata": {},
   "outputs": [],
   "source": [
    "all"
   ]
  },
  {
   "cell_type": "code",
   "execution_count": null,
   "metadata": {},
   "outputs": [],
   "source": [
    "class Solution:\n",
    "    def intersection(self, nums1: List[int], nums2: List[int]) -> List[int]:\n",
    "        nums = set(nums1+nums2)\n",
    "        nums1,nums2 = set(nums1),set(nums2)\n",
    "        return list(nums - set(nums1-nums2) - set(nums2- nums1))"
   ]
  },
  {
   "cell_type": "markdown",
   "metadata": {},
   "source": [
    "# 219"
   ]
  },
  {
   "cell_type": "code",
   "execution_count": null,
   "metadata": {},
   "outputs": [],
   "source": [
    "class Solution:\n",
    "    def containsNearbyDuplicate(self, nums: List[int], k: int) -> bool:\n",
    "        set0 = {}\n",
    "        for i in range(0,len(nums)):\n",
    "            if nums[i] in set0:\n",
    "                if abs(set0[nums[i]]-i)<=k:\n",
    "                    return True\n",
    "            set0[nums[i]] = i\n",
    "\n",
    "        return False"
   ]
  },
  {
   "cell_type": "markdown",
   "metadata": {},
   "source": [
    "# 1"
   ]
  },
  {
   "cell_type": "code",
   "execution_count": null,
   "metadata": {},
   "outputs": [],
   "source": [
    "class Solution:\n",
    "    def twoSum(self, nums: List[int], target: int) -> List[int]:\n",
    "        set0  = {}\n",
    "        for i in range(0,len(nums)):\n",
    "            set0[nums[i]] = i\n",
    "\n",
    "        for i in range(0,len(nums)):\n",
    "            res = target - nums[i]\n",
    "            if res in set0 and i!=set0[res]:\n",
    "                return [i,set0[res]]\n",
    "        return\n",
    "        "
   ]
  },
  {
   "cell_type": "markdown",
   "metadata": {},
   "source": [
    "# 205"
   ]
  },
  {
   "cell_type": "code",
   "execution_count": null,
   "metadata": {},
   "outputs": [],
   "source": [
    "class Solution:\n",
    "    def isIsomorphic(self, s: str, t: str) -> bool:\n",
    "        # 重复字符串出现的位置相同\n",
    "        if (n:=len(s))!=len(t):\n",
    "            return False\n",
    "        set1 = {}\n",
    "        set2 = {}\n",
    "        for i in range(0,n):\n",
    "            if s[i] in set1 or t[i] in set2:\n",
    "                if t[i] in set2 and s[i] in set1:\n",
    "                    if set1[s[i]] == set2[t[i]]:\n",
    "                        pass\n",
    "                    else:\n",
    "                        return False\n",
    "                else:\n",
    "                    return False\n",
    "            set1[s[i]] = i\n",
    "            set2[t[i]] = i\n",
    "        return True"
   ]
  }
 ],
 "metadata": {
  "kernelspec": {
   "display_name": "base",
   "language": "python",
   "name": "python3"
  },
  "language_info": {
   "codemirror_mode": {
    "name": "ipython",
    "version": 3
   },
   "file_extension": ".py",
   "mimetype": "text/x-python",
   "name": "python",
   "nbconvert_exporter": "python",
   "pygments_lexer": "ipython3",
   "version": "3.10.9"
  }
 },
 "nbformat": 4,
 "nbformat_minor": 2
}
