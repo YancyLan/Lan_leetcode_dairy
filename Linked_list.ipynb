{
 "cells": [
  {
   "cell_type": "markdown",
   "metadata": {},
   "source": [
    "# Basic idea of Linked Lists"
   ]
  },
  {
   "cell_type": "code",
   "execution_count": 1,
   "metadata": {},
   "outputs": [
    {
     "name": "stdout",
     "output_type": "stream",
     "text": [
      "John(36) John 36\n"
     ]
    }
   ],
   "source": [
    "class Person:\n",
    "  def __init__(self, name, age):\n",
    "    self.name = name\n",
    "    self.age = age\n",
    "\n",
    "  def __str__(self):\n",
    "    return f\"{self.name}({self.age})\"\n",
    "\n",
    "p1 = Person(\"John\", 36)\n",
    "\n",
    "print(p1,p1.name,p1.age)"
   ]
  },
  {
   "cell_type": "markdown",
   "metadata": {},
   "source": [
    "# 24. 两两交换链表中的节点"
   ]
  },
  {
   "cell_type": "code",
   "execution_count": null,
   "metadata": {},
   "outputs": [],
   "source": [
    "class ListNode:\n",
    "    def __init__(self, val=0, next=None):\n",
    "        self.val = val\n",
    "        self.next = next\n",
    "        \n",
    "class Solution:\n",
    "    def swapPairs(self, head: Optional[ListNode]) -> Optional[ListNode]:\n",
    "        # 如果不使用只是节点，就需要单独处理链表为空的情况\n",
    "        node0 = dummy = ListNode(next=head)  \n",
    "        node1 = head\n",
    "        while node1 != None and node1.next != None:  \n",
    "            node2 = node1.next\n",
    "            node3 = node2.next\n",
    "\n",
    "            node0.next = node2  \n",
    "            node2.next = node1  \n",
    "            node1.next = node3  \n",
    "\n",
    "            node0 = node1 \n",
    "            node1 = node3  \n",
    "        return dummy.next  #do not use return dummy, or the listnode will be included"
   ]
  },
  {
   "cell_type": "markdown",
   "metadata": {},
   "source": [
    "# 160. Intersection of Two Linked Lists\n",
    "Given the heads of two singly linked-lists headA and headB, return the node at which the two lists intersect. If the two linked lists have no intersection at all, return null."
   ]
  },
  {
   "cell_type": "code",
   "execution_count": null,
   "metadata": {},
   "outputs": [],
   "source": [
    "# the worst method\n",
    "class Solution:\n",
    "    def getIntersectionNode(self, headA: ListNode, headB: ListNode) -> Optional[ListNode]:\n",
    "        #这种方法没运用到，公共结点之后的节点都相同的特质\n",
    "        node_A = headA\n",
    "        node_B = headB \n",
    "        while node_A:\n",
    "            node_B = headB\n",
    "            while node_B:\n",
    "                if node_A == node_B:\n",
    "                    return node_A\n",
    "                node_B =node_B.next\n",
    "            node_A = node_A.next\n",
    "        return None"
   ]
  },
  {
   "cell_type": "code",
   "execution_count": null,
   "metadata": {},
   "outputs": [],
   "source": [
    "class Solution:\n",
    "    def getIntersectionNode(self, headA: ListNode, headB: ListNode) -> Optional[ListNode]:\n",
    "        if not headA or not headB:\n",
    "            return None\n",
    "        \n",
    "        node_A = headA\n",
    "        node_B = headB \n",
    "        \n",
    "        # Use a set to track visited nodes in one list\n",
    "        visited_nodes = set()\n",
    "        \n",
    "        while node_A:\n",
    "            visited_nodes.add(node_A)\n",
    "            node_A = node_A.next\n",
    "        \n",
    "        # Traverse the second list and check for any node already in the set\n",
    "        while node_B:\n",
    "            if node_B in visited_nodes:\n",
    "                return node_B\n",
    "            node_B = node_B.next\n",
    "        \n",
    "        return None"
   ]
  },
  {
   "cell_type": "code",
   "execution_count": null,
   "metadata": {},
   "outputs": [],
   "source": [
    "class Solution:\n",
    "    def getIntersectionNode(self, headA: ListNode, headB: ListNode) -> Optional[ListNode]:\n",
    "        if not headA or not headB:\n",
    "            return None\n",
    "        \n",
    "        ptrA = headA\n",
    "        ptrB = headB\n",
    "        \n",
    "        while ptrA != ptrB:\n",
    "            ptrA = ptrA.next if ptrA else headB\n",
    "            ptrB = ptrB.next if ptrB else headA\n",
    "        \n",
    "        return ptrA"
   ]
  },
  {
   "cell_type": "markdown",
   "metadata": {},
   "source": [
    "# Delete element in linked list"
   ]
  },
  {
   "cell_type": "code",
   "execution_count": null,
   "metadata": {},
   "outputs": [],
   "source": [
    "# Definition for singly-linked list.\n",
    "# class ListNode:\n",
    "#     def __init__(self, val=0, next=None):\n",
    "#         self.val = val\n",
    "#         self.next = next\n",
    "class Solution:\n",
    "    def removeElements(self, head: Optional[ListNode], val: int) -> Optional[ListNode]:\n",
    "        node = dummy = ListNode(next=head)\n",
    "        while node.next:\n",
    "            if node.next.val == val:\n",
    "                node.next = node.next.next\n",
    "            else:\n",
    "                node = node.next\n",
    "        return dummy.next"
   ]
  },
  {
   "cell_type": "markdown",
   "metadata": {},
   "source": [
    "# 19. 删除链表的倒数第 N 个结点"
   ]
  },
  {
   "cell_type": "code",
   "execution_count": null,
   "metadata": {},
   "outputs": [],
   "source": [
    "# Definition for singly-linked list.\n",
    "# class ListNode:\n",
    "#     def __init__(self, val=0, next=None):\n",
    "#         self.val = val\n",
    "#         self.next = next\n",
    "class Solution:\n",
    "    def removeNthFromEnd(self, head: Optional[ListNode], n: int) -> Optional[ListNode]:\n",
    "        len = 0\n",
    "        node = dummy = ListNode(next=head)\n",
    "        while node.next:\n",
    "            node = node.next\n",
    "            len += 1\n",
    "        index = len - n + 1\n",
    "        current_index = 1\n",
    "        node = dummy\n",
    "        while current_index<index:\n",
    "            current_index+=1\n",
    "            node = node.next\n",
    "        node.next = node.next.next\n",
    "        return dummy.next"
   ]
  }
 ],
 "metadata": {
  "kernelspec": {
   "display_name": "base",
   "language": "python",
   "name": "python3"
  },
  "language_info": {
   "codemirror_mode": {
    "name": "ipython",
    "version": 3
   },
   "file_extension": ".py",
   "mimetype": "text/x-python",
   "name": "python",
   "nbconvert_exporter": "python",
   "pygments_lexer": "ipython3",
   "version": "3.10.9"
  }
 },
 "nbformat": 4,
 "nbformat_minor": 2
}
