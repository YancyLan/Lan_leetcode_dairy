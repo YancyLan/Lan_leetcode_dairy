{
 "cells": [
  {
   "cell_type": "markdown",
   "metadata": {},
   "source": [
    "# 303 (前缀和对其优化)"
   ]
  },
  {
   "cell_type": "code",
   "execution_count": null,
   "metadata": {},
   "outputs": [],
   "source": [
    "class NumArray:\n",
    "\n",
    "    def __init__(self, nums: List[int]):\n",
    "        self.nums = nums\n",
    "\n",
    "    def sumRange(self, left: int, right: int) -> int:\n",
    "        return sum(self.nums[left : right + 1])\n",
    "\n",
    "\n",
    "# Your NumArray object will be instantiated and called as such:\n",
    "# obj = NumArray(nums)\n",
    "# param_1 = obj.sumRange(left,right)"
   ]
  },
  {
   "cell_type": "markdown",
   "metadata": {},
   "source": [
    "## 优化"
   ]
  },
  {
   "cell_type": "code",
   "execution_count": null,
   "metadata": {},
   "outputs": [],
   "source": [
    "class NumArray:\n",
    "\n",
    "    def __init__(self, nums: List[int]):\n",
    "        self.pres = [0]\n",
    "        for n in nums:\n",
    "            self.pres.append(self.pres[-1] + n)\n",
    "\n",
    "\n",
    "    def sumRange(self, left: int, right: int) -> int:\n",
    "        return self.pres[right + 1] - self.pres[left]"
   ]
  },
  {
   "cell_type": "markdown",
   "metadata": {},
   "source": [
    "# 1588"
   ]
  },
  {
   "cell_type": "code",
   "execution_count": 17,
   "metadata": {},
   "outputs": [],
   "source": [
    "class Solution:\n",
    "    def sumOddLengthSubarrays(self, arr: list[int]) -> int:\n",
    "        pre = [0]*(len(arr)+1)\n",
    "        for i in range(1,len(arr)+1):\n",
    "            pre[i] = pre[i-1] + arr[i-1]\n",
    "        print(pre)\n",
    "        ans = 0\n",
    "        for i in range(1,len(arr)+1,2):\n",
    "            j = 0\n",
    "            while j+i<=len(arr):\n",
    "                print(i,j,pre[j+i]-pre[j])\n",
    "                ans+=pre[j+i]-pre[j]\n",
    "                j+=1\n",
    "        return ans"
   ]
  },
  {
   "cell_type": "code",
   "execution_count": 18,
   "metadata": {},
   "outputs": [
    {
     "name": "stdout",
     "output_type": "stream",
     "text": [
      "[0, 1, 5, 7, 12, 15]\n",
      "1 0 1\n",
      "1 1 4\n",
      "1 2 2\n",
      "1 3 5\n",
      "1 4 3\n",
      "3 0 7\n",
      "3 1 11\n",
      "3 2 10\n",
      "5 0 15\n"
     ]
    },
    {
     "data": {
      "text/plain": [
       "58"
      ]
     },
     "execution_count": 18,
     "metadata": {},
     "output_type": "execute_result"
    }
   ],
   "source": [
    "solution =Solution()\n",
    "solution.sumOddLengthSubarrays([1,4,2,5,3])"
   ]
  },
  {
   "cell_type": "markdown",
   "metadata": {},
   "source": [
    "# 724"
   ]
  },
  {
   "cell_type": "code",
   "execution_count": 26,
   "metadata": {},
   "outputs": [],
   "source": [
    "class Solution:\n",
    "    def pivotIndex(self, nums: list[int]) -> int:\n",
    "        pre = [0]*(len(nums)+1)\n",
    "        for i in range(1,len(nums)+1):\n",
    "            pre[i] = pre[i-1]+nums[i-1]\n",
    "        temp = 0\n",
    "        for i in range(len(pre)-1,0,-1):\n",
    "            temp += nums[i-1]\n",
    "            #print(pre,i,pre[i],temp)\n",
    "            pre[i] = pre[i] - temp\n",
    "        print(pre)\n",
    "        for i in range(1,len(pre)):\n",
    "            if pre[i] == 0:\n",
    "                return i-1\n",
    "        return -1"
   ]
  },
  {
   "cell_type": "code",
   "execution_count": 22,
   "metadata": {},
   "outputs": [
    {
     "data": {
      "text/plain": [
       "[10, 9, 8, 7, 6, 5, 4, 3, 2]"
      ]
     },
     "execution_count": 22,
     "metadata": {},
     "output_type": "execute_result"
    }
   ],
   "source": [
    "list(range(10,1,-1))"
   ]
  },
  {
   "cell_type": "code",
   "execution_count": 27,
   "metadata": {},
   "outputs": [
    {
     "name": "stdout",
     "output_type": "stream",
     "text": [
      "[0, -27, -19, -9, 0, 11, 22]\n"
     ]
    },
    {
     "data": {
      "text/plain": [
       "3"
      ]
     },
     "execution_count": 27,
     "metadata": {},
     "output_type": "execute_result"
    }
   ],
   "source": [
    "solution =Solution()\n",
    "solution.pivotIndex([1,7,3,6,5,6])"
   ]
  },
  {
   "cell_type": "code",
   "execution_count": null,
   "metadata": {},
   "outputs": [],
   "source": [
    "class Solution:\n",
    "    def pivotIndex(self, nums: list[int]) -> int:\n",
    "        left = -nums[-1]\n",
    "        right = sum(nums)\n",
    "        for i, n in enumerate(nums):\n",
    "            left += nums[i-1]\n",
    "            right -= nums[i]\n",
    "            if left == right:\n",
    "                return i \n",
    "        return -1"
   ]
  }
 ],
 "metadata": {
  "kernelspec": {
   "display_name": "base",
   "language": "python",
   "name": "python3"
  },
  "language_info": {
   "codemirror_mode": {
    "name": "ipython",
    "version": 3
   },
   "file_extension": ".py",
   "mimetype": "text/x-python",
   "name": "python",
   "nbconvert_exporter": "python",
   "pygments_lexer": "ipython3",
   "version": "3.10.9"
  }
 },
 "nbformat": 4,
 "nbformat_minor": 2
}
