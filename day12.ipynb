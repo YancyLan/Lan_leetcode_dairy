{
 "cells": [
  {
   "cell_type": "markdown",
   "metadata": {},
   "source": [
    "# 49"
   ]
  },
  {
   "cell_type": "markdown",
   "metadata": {},
   "source": [
    "# To be used as key or an element in a set, the element must be hashable\n",
    "In Python, an object is considered hashable if it has a hash value that remains constant during its lifetime. Hashable objects can be used as keys in dictionaries and as elements in sets because they support a __hash__() method. The hash value is used to quickly compare dictionary keys during a dictionary lookup.     \n",
    "    \n",
    "For an object to be hashable, it must fulfill the following requirements:    \n",
    "\n",
    "- Immutability: The object should be immutable, meaning its value cannot change. This ensures that the hash value remains consistent.    \n",
    "- Implemented __hash__() method: The object must implement the __hash__() method.   \n",
    "- Implemented __eq__() method: The object must implement the __eq__() method to compare equality between two objects.    \n",
    "\n",
    "Common hashable types in Python include:    \n",
    "\n",
    "- Immutable built-in types: such as int, float, str, tuple, and frozenset.     \n",
    "- User-defined classes: Instances of user-defined classes are hashable by default, but this can be overridden by defining __hash__() and __eq__() methods.   "
   ]
  },
  {
   "cell_type": "code",
   "execution_count": null,
   "metadata": {},
   "outputs": [],
   "source": [
    "# tuple A tuple is an immutable sequence type in Python, meaning once it is created, its elements cannot be changed. \n",
    "my_tuple = (1, 2, 3)\n",
    "print(my_tuple)  # Outputs: (1, 2, 3)\n",
    "\n",
    "# Accessing elements\n",
    "print(my_tuple[0])  # Outputs: 1\n",
    "\n",
    "# Tuples are immutable\n",
    "try:\n",
    "    my_tuple[0] = 4  # Raises TypeError: 'tuple' object does not support item assignment\n",
    "except TypeError as e:\n",
    "    print(e)\n"
   ]
  },
  {
   "cell_type": "code",
   "execution_count": null,
   "metadata": {},
   "outputs": [],
   "source": [
    "# Creating a frozenset\n",
    "fset = frozenset([1, 2, 3, 4, 5])\n",
    "\n",
    "print(fset)  # Outputs: frozenset({1, 2, 3, 4, 5})\n",
    "\n",
    "# Attempting to add an element will raise an error\n",
    "try:\n",
    "    fset.add(6)  # Raises AttributeError: 'frozenset' object has no attribute 'add'\n",
    "except AttributeError as e:\n",
    "    print(e)\n",
    "\n",
    "# Frozensets can be used as keys in dictionaries\n",
    "my_dict = {fset: \"example\"}\n",
    "print(my_dict)  # Outputs: {frozenset({1, 2, 3, 4, 5}): 'example'}\n",
    "\n",
    "# Frozensets can be elements of another set\n",
    "set_of_frozensets = {frozenset([1, 2]), frozenset([3, 4])}\n",
    "print(set_of_frozensets)  # Outputs: {frozenset({1, 2}), frozenset({3, 4})}\n"
   ]
  },
  {
   "cell_type": "code",
   "execution_count": 6,
   "metadata": {},
   "outputs": [],
   "source": [
    "class Solution:\n",
    "    def groupAnagrams(self, strs: list[str]) -> list[list[str]]:\n",
    "        ans = []\n",
    "        set_all = {}\n",
    "        for i in strs:\n",
    "            #set_temp =set() #set are mutable, it is not hashable\n",
    "            set_temp = tuple(sorted(i))\n",
    "            \n",
    "            if set_temp in set_all:\n",
    "                set_all[set_temp].append(i)\n",
    "            else:\n",
    "                set_all[set_temp] = [i]\n",
    "        for i in set_all:\n",
    "            ans.append(set_all[i])\n",
    "        return ans if ans else [[\"\"]]"
   ]
  },
  {
   "cell_type": "code",
   "execution_count": 8,
   "metadata": {},
   "outputs": [
    {
     "data": {
      "text/plain": [
       "[['eat', 'tea', 'ate'], ['tan', 'nat'], ['bat']]"
      ]
     },
     "execution_count": 8,
     "metadata": {},
     "output_type": "execute_result"
    }
   ],
   "source": [
    "solution = Solution()\n",
    "solution.groupAnagrams([\"eat\",\"tea\",\"tan\",\"ate\",\"nat\",\"bat\"])\n"
   ]
  },
  {
   "cell_type": "code",
   "execution_count": 5,
   "metadata": {},
   "outputs": [
    {
     "data": {
      "text/plain": [
       "True"
      ]
     },
     "execution_count": 5,
     "metadata": {},
     "output_type": "execute_result"
    }
   ],
   "source": [
    "{'e', 't', 'a'} == {'t', 'a', 'e'}"
   ]
  },
  {
   "cell_type": "markdown",
   "metadata": {},
   "source": [
    "# 36"
   ]
  },
  {
   "cell_type": "code",
   "execution_count": 10,
   "metadata": {},
   "outputs": [],
   "source": [
    "set_row =set()"
   ]
  },
  {
   "cell_type": "code",
   "execution_count": 32,
   "metadata": {},
   "outputs": [],
   "source": [
    "class Solution:\n",
    "    def isValidSudoku(self, board: list[list[str]]) -> bool:\n",
    "        # check 1*n\n",
    "        for i in range(0,len(board)):\n",
    "            set_row = set()\n",
    "            set_col = set()\n",
    "            for j in range(0,len(board)):\n",
    "                if board[i][j] in set_row:\n",
    "                    #print('1',i,j,board[i][j],set_row)\n",
    "                    return False\n",
    "                elif board[i][j]!=\".\":\n",
    "                    set_row.add(board[i][j])\n",
    "                if board[j][i] in set_col:\n",
    "                    #print(2,j,i,board[j][i],set_col)\n",
    "                    return False\n",
    "                elif board[j][i]!=\".\":\n",
    "                    set_col.add(board[j][i])\n",
    "        # check 3*3\n",
    "        for i in range(0,len(board),3):\n",
    "            for j in range(i,len(board),3):\n",
    "                set_row=set()\n",
    "                set_col=set()\n",
    "                for x in range(i,i+3):\n",
    "                    for y in range(j,j+3):\n",
    "                        if board[x][y] in set_row:\n",
    "                            print(3,x,y,set_row)\n",
    "                            return False\n",
    "                        elif board[x][y]!=\".\":\n",
    "                            set_row.add(board[x][y])\n",
    "                        if board[y][x] in set_col:\n",
    "                            print(4,y,x,board[y][x],set_col)\n",
    "                            return False\n",
    "                        elif board[y][x]!=\".\":\n",
    "                            set_col.add(board[y][x])\n",
    "        \n",
    "        return True"
   ]
  },
  {
   "cell_type": "code",
   "execution_count": 33,
   "metadata": {},
   "outputs": [
    {
     "data": {
      "text/plain": [
       "True"
      ]
     },
     "execution_count": 33,
     "metadata": {},
     "output_type": "execute_result"
    }
   ],
   "source": [
    "solution = Solution()\n",
    "solution.isValidSudoku([[\"5\",\"3\",\".\",\".\",\"7\",\".\",\".\",\".\",\".\"],[\"6\",\".\",\".\",\"1\",\"9\",\"5\",\".\",\".\",\".\"],[\".\",\"9\",\"8\",\".\",\".\",\".\",\".\",\"6\",\".\"],[\"8\",\".\",\".\",\".\",\"6\",\".\",\".\",\".\",\"3\"],[\"4\",\".\",\".\",\"8\",\".\",\"3\",\".\",\".\",\"1\"],[\"7\",\".\",\".\",\".\",\"2\",\".\",\".\",\".\",\"6\"],[\".\",\"6\",\".\",\".\",\".\",\".\",\"2\",\"8\",\".\"],[\".\",\".\",\".\",\"4\",\"1\",\"9\",\".\",\".\",\"5\"],[\".\",\".\",\".\",\".\",\"8\",\".\",\".\",\"7\",\"9\"]])"
   ]
  },
  {
   "cell_type": "markdown",
   "metadata": {},
   "source": [
    "# 146 (双向循环链表)"
   ]
  },
  {
   "cell_type": "code",
   "execution_count": null,
   "metadata": {},
   "outputs": [],
   "source": [
    "class Node:\n",
    "    # 提高访问属性的速度，并节省内存\n",
    "    __slots__ = 'prev', 'next', 'key', 'value'\n",
    "\n",
    "    def __init__(self, key=0, value=0):\n",
    "        self.key = key\n",
    "        self.value = value\n",
    "\n",
    "class LRUCache:\n",
    "    def __init__(self, capacity: int):\n",
    "        self.capacity = capacity\n",
    "        self.dummy = Node()  # 哨兵节点\n",
    "        self.dummy.prev = self.dummy\n",
    "        self.dummy.next = self.dummy#以实现保持书本使用顺序\n",
    "        self.key_to_node = dict() #以实现查找的速度为O(1)\n",
    "\n",
    "    def get_node(self, key: int) -> Optional[Node]:\n",
    "        if key not in self.key_to_node:  # 没有这本书\n",
    "            return None\n",
    "        node = self.key_to_node[key]  # 有这本书\n",
    "        self.remove(node)  # 把这本书抽出来\n",
    "        self.push_front(node)  # 放在最上面\n",
    "        return node\n",
    "\n",
    "    def get(self, key: int) -> int:\n",
    "        node = self.get_node(key)\n",
    "        return node.value if node else -1\n",
    "\n",
    "    def put(self, key: int, value: int) -> None:\n",
    "        node = self.get_node(key)\n",
    "        if node:  # 有这本书\n",
    "            node.value = value  # 更新 value\n",
    "            return\n",
    "        self.key_to_node[key] = node = Node(key, value)  # 新书,将node存入dict      \n",
    "        self.push_front(node)  # 放在最上面\n",
    "        if len(self.key_to_node) > self.capacity:  # 书太多了\n",
    "            back_node = self.dummy.prev\n",
    "            del self.key_to_node[back_node.key]\n",
    "            self.remove(back_node)  # 去掉最后一本书\n",
    "\n",
    "    # 删除一个节点（抽出一本书）\n",
    "    def remove(self, x: Node) -> None:\n",
    "        x.prev.next = x.next\n",
    "        x.next.prev = x.prev\n",
    "\n",
    "    # 在链表头添加一个节点（把一本书放在最上面）\n",
    "    def push_front(self, x: Node) -> None:\n",
    "        x.prev = self.dummy\n",
    "        x.next = self.dummy.next\n",
    "        x.prev.next = x\n",
    "        x.next.prev = x\n",
    "\n",
    "\n",
    "\n",
    "\n",
    "\n",
    "\n",
    "\n",
    "# Your LRUCache object will be instantiated and called as such:\n",
    "# obj = LRUCache(capacity)\n",
    "# param_1 = obj.get(key)\n",
    "# obj.put(key,value)"
   ]
  }
 ],
 "metadata": {
  "kernelspec": {
   "display_name": "base",
   "language": "python",
   "name": "python3"
  },
  "language_info": {
   "codemirror_mode": {
    "name": "ipython",
    "version": 3
   },
   "file_extension": ".py",
   "mimetype": "text/x-python",
   "name": "python",
   "nbconvert_exporter": "python",
   "pygments_lexer": "ipython3",
   "version": "3.10.9"
  }
 },
 "nbformat": 4,
 "nbformat_minor": 2
}
