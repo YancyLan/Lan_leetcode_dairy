{
 "cells": [
  {
   "cell_type": "markdown",
   "metadata": {},
   "source": [
    "# Num26: Remove Duplicates from sorted Array"
   ]
  },
  {
   "cell_type": "code",
   "execution_count": null,
   "metadata": {},
   "outputs": [],
   "source": [
    "# Method1: displaced subtraction\n",
    "import numpy as np\n",
    "def removeDuplicates(nums):\n",
    "    \"\"\"\n",
    "    :type nums: List[int]\n",
    "    :rtype: int\n",
    "    \"\"\"\n",
    "    nums_1 = np.array(nums[1:])\n",
    "    nums_2 = np.array(nums[:-1])\n",
    "    diff_nums = list(nums_1 - nums_2)\n",
    "    nums_unique = []\n",
    "    nums_unique.append(nums[0])\n",
    "    for i in range(0,len(diff_nums)):\n",
    "        if diff_nums[i] != 0:\n",
    "            nums_unique.append(nums[i+1])\n",
    "    nums = nums_unique\n",
    "    k = len(nums)\n",
    "    return k"
   ]
  },
  {
   "cell_type": "code",
   "execution_count": 39,
   "metadata": {},
   "outputs": [],
   "source": [
    "# method2: doudle pointer\n",
    "def removeDuplicates(nums):\n",
    "    \"\"\"\n",
    "    :type nums: List[int]\n",
    "    :rtype: int\n",
    "    \"\"\"\n",
    "    index = 1\n",
    "    for i in range(1,len(nums)):\n",
    "        if nums[i] != nums[i-1]:\n",
    "                nums[index] =nums[i]\n",
    "                index +=1\n",
    "    print(nums[:index])\n",
    "    return index+1"
   ]
  },
  {
   "cell_type": "code",
   "execution_count": 40,
   "metadata": {},
   "outputs": [
    {
     "name": "stdout",
     "output_type": "stream",
     "text": [
      "[1, 2]\n"
     ]
    }
   ],
   "source": [
    "nums = removeDuplicates([1,1,2])"
   ]
  },
  {
   "cell_type": "markdown",
   "metadata": {},
   "source": [
    "# 283: Finding the Longest Equivalent Subarray"
   ]
  },
  {
   "cell_type": "code",
   "execution_count": null,
   "metadata": {},
   "outputs": [],
   "source": [
    "#subarray do not change the oringinal order of the oringinal array"
   ]
  },
  {
   "cell_type": "code",
   "execution_count": 44,
   "metadata": {},
   "outputs": [],
   "source": [
    "class Solution(object):\n",
    "    def longestEqualSubarray(self, nums, k):\n",
    "        \"\"\"\n",
    "        :type nums: List[int]\n",
    "        :type k: int\n",
    "        :rtype: int\n",
    "        \"\"\"\n",
    "        if len(nums) == 0:\n",
    "            return 0\n",
    "        long = 1\n",
    "        for i in range(0,len(nums)-1):\n",
    "            j = i+1\n",
    "            k_used = 0\n",
    "            temp_long = 1\n",
    "            while j < len(nums) and k_used <= k:\n",
    "                if nums[j] == nums[i]:\n",
    "                    temp_long += 1\n",
    "                    j += 1\n",
    "                else:\n",
    "                    k_used += 1\n",
    "                    j += 1\n",
    "            long = max(long,temp_long)\n",
    "            if i+long > len(nums):\n",
    "                break\n",
    "        return long\n",
    "            "
   ]
  },
  {
   "cell_type": "code",
   "execution_count": null,
   "metadata": {},
   "outputs": [],
   "source": [
    "from collections import defaultdict\n",
    "class Solution:\n",
    "    def longestEqualSubarray(self, nums: list[int], k: int) -> int:\n",
    "        ans = 0\n",
    "        cnt = defaultdict(int)\n",
    "        i = 0\n",
    "        #cnt里面储存了所有元素的最大子数组区间\n",
    "        for j, x in enumerate(nums):\n",
    "            # j 为右边界，考虑以其为结尾的子数组的最长等值子数组\n",
    "            cnt[x] += 1\n",
    "            # 当前区间中，无法以 nums[i] 为等值元素构成合法等值数组\n",
    "            while j - i + 1 - cnt[nums[i]] > k:#为了使以该子数组需要删除的元素尽可能少，将无关元素，即不等于众数的元素剔除（认为最长等值区间左边界为众数）\n",
    "                #考虑以每一个左边界值为”众数“ 来删建子数组，不满足则缩小左边界，如果该值不是真的众数\n",
    "                #需要减去的元素更多，不符合最长，需要右移；如果该值为众数，考虑有可能需要删减的元素数大于k，还需要右移\n",
    "                #   左边界的无后效性： 对于每一个右边界，其最长的等值子数组是确定的，此时其中众数数量一定大于等于其他的值\n",
    "                #如果后续的子数组需要用到现有的众数，由于已存在删除，不可能全部利用到否则删除次数不足\n",
    "                #如果需要用到非众数，假设利用完整的当前子数组，由于减去当前的众数反而长度减小，因此其左边界必定\n",
    "                #大于当前的左边界，可以用滑窗实现\n",
    "                # j - i + 1 窗口大小\n",
    "                # cnt[nums[i]] 众数的大小\n",
    "                cnt[nums[i]] -= 1\n",
    "                i += 1\n",
    "            ans = max(ans, cnt[nums[j]])#每次更新都和当前的ans比较，就不用最后再次进行比较求出最大的值\n",
    "        return ans"
   ]
  },
  {
   "cell_type": "code",
   "execution_count": 45,
   "metadata": {},
   "outputs": [
    {
     "data": {
      "text/plain": [
       "4"
      ]
     },
     "execution_count": 45,
     "metadata": {},
     "output_type": "execute_result"
    }
   ],
   "source": [
    "nums = [1,1,2,2,1,1]\n",
    "k = 2\n",
    "longestEqualSubarray(nums, k)"
   ]
  },
  {
   "cell_type": "markdown",
   "metadata": {},
   "source": [
    "# 485：最大的连续一个数"
   ]
  },
  {
   "cell_type": "code",
   "execution_count": 73,
   "metadata": {},
   "outputs": [],
   "source": [
    "\n",
    "def findMaxConsecutiveOnes(nums):\n",
    "    \"\"\"\n",
    "    :type nums: List[int]\n",
    "    :rtype: int\n",
    "    \"\"\"\n",
    "    ans = 0\n",
    "    i = 0\n",
    "    while i < len(nums):\n",
    "        while i<len(nums) and nums[i] != 1:\n",
    "            i += 1\n",
    "        if i>=len(nums):\n",
    "            break\n",
    "        j = i+1\n",
    "        temp_ans = 1\n",
    "        while j<len(nums) and nums[j] == 1:\n",
    "            temp_ans += 1\n",
    "            j += 1\n",
    "        ans = max(ans,temp_ans) \n",
    "        i = j+1\n",
    "    return ans"
   ]
  },
  {
   "cell_type": "code",
   "execution_count": null,
   "metadata": {},
   "outputs": [],
   "source": [
    "class Solution:\n",
    "    def findMaxConsecutiveOnes(self, nums: List[int]) -> int:\n",
    "        maxCount = count = 0\n",
    "\n",
    "        for i, num in enumerate(nums):\n",
    "            if num == 1:\n",
    "                count += 1\n",
    "            else:\n",
    "                maxCount = max(maxCount, count)\n",
    "                count = 0\n",
    "        \n",
    "        maxCount = max(maxCount, count)\n",
    "        return maxCount\n",
    "\n",
    "#力扣官方题解"
   ]
  },
  {
   "cell_type": "code",
   "execution_count": 75,
   "metadata": {},
   "outputs": [
    {
     "data": {
      "text/plain": [
       "2"
      ]
     },
     "execution_count": 75,
     "metadata": {},
     "output_type": "execute_result"
    }
   ],
   "source": [
    "findMaxConsecutiveOnes([0,1,1,0,0,0,0])"
   ]
  },
  {
   "cell_type": "code",
   "execution_count": 78,
   "metadata": {},
   "outputs": [],
   "source": [
    "nums = [0,1,1,0,0,0,0][:3]"
   ]
  },
  {
   "cell_type": "code",
   "execution_count": 79,
   "metadata": {},
   "outputs": [
    {
     "data": {
      "text/plain": [
       "[0, 1, 1]"
      ]
     },
     "execution_count": 79,
     "metadata": {},
     "output_type": "execute_result"
    }
   ],
   "source": [
    "nums"
   ]
  },
  {
   "cell_type": "markdown",
   "metadata": {},
   "source": [
    "# 27: Remove Elements"
   ]
  },
  {
   "cell_type": "code",
   "execution_count": null,
   "metadata": {},
   "outputs": [],
   "source": [
    "class Solution(object):\n",
    "    def removeElement(self, nums, val):\n",
    "        \"\"\"\n",
    "        :type nums: List[int]\n",
    "        :type val: int\n",
    "        :rtype: int\n",
    "        \"\"\"\n",
    "        j = 0\n",
    "        for i,x in enumerate(nums):\n",
    "            if x != val:\n",
    "                 nums[j] = nums[i]\n",
    "                 j += 1\n",
    "        return j"
   ]
  }
 ],
 "metadata": {
  "kernelspec": {
   "display_name": "base",
   "language": "python",
   "name": "python3"
  },
  "language_info": {
   "codemirror_mode": {
    "name": "ipython",
    "version": 3
   },
   "file_extension": ".py",
   "mimetype": "text/x-python",
   "name": "python",
   "nbconvert_exporter": "python",
   "pygments_lexer": "ipython3",
   "version": "3.10.9"
  }
 },
 "nbformat": 4,
 "nbformat_minor": 2
}
