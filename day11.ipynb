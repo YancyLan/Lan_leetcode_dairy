{
 "cells": [
  {
   "cell_type": "markdown",
   "metadata": {},
   "source": [
    "# 560"
   ]
  },
  {
   "cell_type": "code",
   "execution_count": null,
   "metadata": {},
   "outputs": [],
   "source": [
    "class Solution:\n",
    "    def subarraySum(self, nums: List[int], k: int) -> int:\n",
    "        pre = [0]*(len(nums)+1)\n",
    "        for i in range(1,len(pre)):\n",
    "            pre[i] = nums[i-1] + pre[i-1] \n",
    "\n",
    "        ans = 0\n",
    "\n",
    "        for i in range(len(pre)-1,0,-1):\n",
    "            for j in range(0,i):\n",
    "                if pre[i] - pre[j] == k:\n",
    "                    ans+=1\n",
    "        \n",
    "        return ans"
   ]
  },
  {
   "cell_type": "code",
   "execution_count": 14,
   "metadata": {},
   "outputs": [],
   "source": [
    "class Solution:\n",
    "    def subarraySum(self, nums: list[int], k: int) -> int:\n",
    "        pre = [0]*(len(nums)+1)\n",
    "        hash_t = {}\n",
    "        hash_t[0] = [0]\n",
    "        for i in range(1,len(pre)):\n",
    "            pre[i] = nums[i-1] + pre[i-1]\n",
    "            if pre[i] in hash_t:\n",
    "                hash_t[pre[i]].append(i)\n",
    "            else:\n",
    "                hash_t[pre[i]] = [i]\n",
    "        print(hash_t)\n",
    "        ans = 0\n",
    "        for i in range(len(pre)-1,0,-1):\n",
    "            print(i,pre[i]-k)\n",
    "            if pre[i]-k in hash_t:\n",
    "                temp = hash_t[pre[i]-k]\n",
    "                ans += len([x for x in temp if x < i])#hash_t[pre[i]-k]一定小于i\n",
    "        \n",
    "        return ans"
   ]
  },
  {
   "cell_type": "code",
   "execution_count": 18,
   "metadata": {},
   "outputs": [
    {
     "name": "stdout",
     "output_type": "stream",
     "text": [
      "{0: [0], 1: [1], 3: [2], 6: [3]}\n",
      "3 3\n",
      "2 0\n",
      "1 -2\n"
     ]
    },
    {
     "data": {
      "text/plain": [
       "2"
      ]
     },
     "execution_count": 18,
     "metadata": {},
     "output_type": "execute_result"
    }
   ],
   "source": [
    "solution = Solution()\n",
    "solution.subarraySum([1,2,3],3)"
   ]
  },
  {
   "cell_type": "code",
   "execution_count": null,
   "metadata": {},
   "outputs": [],
   "source": [
    "#进一步优化，放入一次循环，不需统计元素的具体位置\n",
    "class Solution:\n",
    "    def subarraySum(self, nums: List[int], k: int) -> int:\n",
    "        dic={0:1}\n",
    "        sums,res=0,0\n",
    "        for num in nums:\n",
    "            sums+=num\n",
    "            res+=dic.get(sums-k,0)\n",
    "            dic[sums]=dic.get(sums,0)+1\n",
    "        return res"
   ]
  },
  {
   "cell_type": "markdown",
   "metadata": {},
   "source": [
    "# 1248"
   ]
  },
  {
   "cell_type": "code",
   "execution_count": 38,
   "metadata": {},
   "outputs": [],
   "source": [
    "class Solution:\n",
    "    def numberOfSubarrays(self, nums: list[int], k: int) -> int:\n",
    "        sums, ans = 0,0\n",
    "        dic = {0:1}\n",
    "        for i in range(0,len(nums)):\n",
    "            sums += 1 if nums[i]%2==1 else 0\n",
    "            ans += dic.get(sums-k,0)\n",
    "            #ans += dic.get(sums-k,0)\n",
    "            print(\"nums[i]\",nums[i],dic,\"当前的奇数个数\",sums,dic.get(sums-k,0),\"满足条件的个数\",ans)\n",
    "            dic[sums] = dic.get(sums,0) + 1\n",
    "        return ans"
   ]
  },
  {
   "cell_type": "code",
   "execution_count": 44,
   "metadata": {},
   "outputs": [
    {
     "name": "stdout",
     "output_type": "stream",
     "text": [
      "nums[i] 1 {0: 1} 当前的奇数个数 1 1 满足条件的个数 1\n",
      "nums[i] 1 {0: 1, 1: 1} 当前的奇数个数 2 1 满足条件的个数 2\n",
      "nums[i] 1 {0: 1, 1: 1, 2: 1} 当前的奇数个数 3 1 满足条件的个数 3\n",
      "nums[i] 1 {0: 1, 1: 1, 2: 1, 3: 1} 当前的奇数个数 4 1 满足条件的个数 4\n",
      "nums[i] 1 {0: 1, 1: 1, 2: 1, 3: 1, 4: 1} 当前的奇数个数 5 1 满足条件的个数 5\n",
      "nums[i] 2 {0: 1, 1: 1, 2: 1, 3: 1, 4: 1, 5: 1} 当前的奇数个数 5 1 满足条件的个数 6\n",
      "nums[i] 2 {0: 1, 1: 1, 2: 1, 3: 1, 4: 1, 5: 2} 当前的奇数个数 5 1 满足条件的个数 7\n",
      "nums[i] 3 {0: 1, 1: 1, 2: 1, 3: 1, 4: 1, 5: 3} 当前的奇数个数 6 3 满足条件的个数 10\n",
      "nums[i] 2 {0: 1, 1: 1, 2: 1, 3: 1, 4: 1, 5: 3, 6: 1} 当前的奇数个数 6 3 满足条件的个数 13\n",
      "nums[i] 1 {0: 1, 1: 1, 2: 1, 3: 1, 4: 1, 5: 3, 6: 2} 当前的奇数个数 7 2 满足条件的个数 15\n",
      "nums[i] 2 {0: 1, 1: 1, 2: 1, 3: 1, 4: 1, 5: 3, 6: 2, 7: 1} 当前的奇数个数 7 2 满足条件的个数 17\n"
     ]
    },
    {
     "data": {
      "text/plain": [
       "17"
      ]
     },
     "execution_count": 44,
     "metadata": {},
     "output_type": "execute_result"
    }
   ],
   "source": [
    "solution = Solution()\n",
    "solution.numberOfSubarrays([1,1,1,1,1,2,2,3,2,1,2],1)"
   ]
  }
 ],
 "metadata": {
  "kernelspec": {
   "display_name": "base",
   "language": "python",
   "name": "python3"
  },
  "language_info": {
   "codemirror_mode": {
    "name": "ipython",
    "version": 3
   },
   "file_extension": ".py",
   "mimetype": "text/x-python",
   "name": "python",
   "nbconvert_exporter": "python",
   "pygments_lexer": "ipython3",
   "version": "3.10.9"
  }
 },
 "nbformat": 4,
 "nbformat_minor": 2
}
